{
 "cells": [
  {
   "cell_type": "code",
   "execution_count": 44,
   "metadata": {},
   "outputs": [],
   "source": [
    "import numpy as np\n",
    "import pandas as pd\n",
    "import matplotlib.pyplot as plt\n",
    "from sklearn.preprocessing import StandardScaler\n",
    "from sklearn.model_selection import train_test_split\n",
    "from sklearn.linear_model import LogisticRegression\n",
    "from sklearn.feature_selection import SelectFromModel\n",
    "from mpl_toolkits.mplot3d import Axes3D\n",
    "from sklearn.svm import SVC\n",
    "from scipy.spatial.distance import pdist, squareform\n",
    "from scipy.cluster.hierarchy import linkage\n",
    "from scipy.cluster.hierarchy import dendrogram\n",
    "from sklearn.cluster import KMeans\n",
    "from sklearn.decomposition import PCA\n",
    "from sklearn.decomposition import KernelPCA\n",
    "from sklearn.ensemble import RandomForestClassifier\n",
    "from matplotlib.colors import ListedColormap\n",
    "import matplotlib.colors as colors"
   ]
  },
  {
   "cell_type": "code",
   "execution_count": 45,
   "metadata": {
    "scrolled": true
   },
   "outputs": [],
   "source": [
    "df = pd.read_excel('COH plasma data.xlsx')\n",
    "X = np.array(df.iloc[16:, 8:]).transpose()\n",
    "y = np.array(df.iloc[15, 8:]).transpose()\n",
    "y = y.astype('int')\n",
    "pd.DataFrame(X).fillna(0, inplace=True)"
   ]
  },
  {
   "cell_type": "code",
   "execution_count": 46,
   "metadata": {},
   "outputs": [],
   "source": [
    "X_train, X_test, y_train, y_test = train_test_split(X, y, test_size=0.3, stratify=y, random_state=0)\n",
    "sc = StandardScaler()\n",
    "X_train_std = sc.fit_transform(X_train)\n",
    "X_test_std = sc.transform(X_test)"
   ]
  },
  {
   "cell_type": "code",
   "execution_count": 47,
   "metadata": {},
   "outputs": [],
   "source": [
    "def plot_decision_regions(X, y, classifier, resolution=0.02):\n",
    "    markers = ('s', 'x', 'o', '^', 'v')\n",
    "    colors = ('red', 'blue', 'lightgreen', 'gray', 'cyan')\n",
    "    cmap = ListedColormap(colors[:len(np.unique(y))])\n",
    "    x1_min, x1_max = X[:, 0].min() - 1, X[:, 0].max() + 1\n",
    "    x2_min, x2_max = X[:, 1].min() - 1, X[:, 1].max() + 1\n",
    "    xx1, xx2 = np.meshgrid(np.arange(x1_min, x1_max, resolution),\n",
    "    np.arange(x2_min, x2_max, resolution))\n",
    "    Z = classifier.predict(np.array([xx1.ravel(), xx2.ravel()]).T)\n",
    "    Z = Z.reshape(xx1.shape)\n",
    "    plt.contourf(xx1, xx2, Z, alpha=0.4, cmap=cmap)\n",
    "    plt.xlim(xx1.min(), xx1.max())\n",
    "    plt.ylim(xx2.min(), xx2.max())\n",
    "    # plot class samples\n",
    "    for idx, cl in enumerate(np.unique(y)):\n",
    "        plt.scatter(x=X[y == cl, 0], y=X[y == cl, 1], alpha=0.6, c=cmap(idx), edgecolor='black', marker=markers[idx], label=cl)"
   ]
  },
  {
   "cell_type": "code",
   "execution_count": 48,
   "metadata": {},
   "outputs": [],
   "source": [
    "# forest = RandomForestClassifier(n_estimators=500, random_state=1)\n",
    "# forest.fit(X_train_std, y_train)\n",
    "# feat_labels = np.array(df.iloc[16:, 2]).transpose()\n",
    "# importances = forest.feature_importances_\n",
    "# indices = np.argsort(importances)[::-1]\n",
    "# for f in range(X_train.shape[1]):\n",
    "#     print(\"%2d) %-*s %f\" % (f + 1, 30, feat_labels[indices[f]], importances[indices[f]]))\n",
    "\n",
    "# plt.title('Feature Importance')\n",
    "# plt.bar(range(X_train_std.shape[1]), importances[indices], align='center')\n",
    "# plt.xticks(range(X_train_std.shape[1]), feat_labels, rotation=90)\n",
    "# plt.xlim([-1, X_train_std.shape[1]])\n",
    "# plt.tight_layout()\n",
    "# plt.show()"
   ]
  },
  {
   "cell_type": "code",
   "execution_count": 49,
   "metadata": {
    "scrolled": true
   },
   "outputs": [],
   "source": [
    "# fig = plt.figure(figsize=(12, 8))\n",
    "# ax = fig.add_subplot(111, projection='3d')\n",
    "# oxoproline = list(df.iloc[18, 8:])\n",
    "# aspartate = list(df.iloc[20, 8:])\n",
    "# glycerol = list(df.iloc[21, 8:])\n",
    "# ax.scatter(oxoproline, aspartate, glycerol, c='r', marker='o')\n",
    "# ax.set_xlabel('5-Oxoproline')\n",
    "# ax.set_ylabel('Aspartate')\n",
    "# ax.set_zlabel('Glycerolphosphate')\n",
    "# ax.title.set_text('Important features 3D plot')\n",
    "# plt.savefig('3d.png', dpi=300, bbox_inches='tight')\n",
    "# plt.show()"
   ]
  },
  {
   "cell_type": "code",
   "execution_count": 50,
   "metadata": {},
   "outputs": [],
   "source": [
    "# pca = PCA(n_components=2)\n",
    "# lr = LogisticRegression()\n",
    "# X_train_pca = pca.fit_transform(X_train_std)\n",
    "# X_test_pca = pca.transform(X_test_std)\n",
    "# lr.fit(X_train_pca, y_train)\n",
    "# plot_decision_regions(X_train_pca, y_train, classifier=lr)\n",
    "# plt.xlabel('PC 1')\n",
    "# plt.ylabel('PC 2')\n",
    "# # plt.title('PCA Dimensionality Reduction 2D using Logistic Regression')\n",
    "# plt.legend(loc='lower left')\n",
    "# plt.savefig('pca2d_lr.png', dpi=300, bbox_inches='tight')\n",
    "# plt.show()"
   ]
  },
  {
   "cell_type": "code",
   "execution_count": 51,
   "metadata": {
    "scrolled": true
   },
   "outputs": [],
   "source": [
    "# kpca = KernelPCA(n_components=2, kernel='rbf', gamma=15)\n",
    "# X_kpca = kpca.fit_transform(X)\n",
    "# plt.scatter(X_kpca[y==0, 0], X_kpca[y==0, 1], color='red', marker='^', alpha=0.5, label='Patient')\n",
    "# plt.scatter(X_kpca[y==1, 0], X_kpca[y==1, 1], color='blue', marker='o', alpha=0.5, label='Healthy')\n",
    "# plt.xlabel('PC 1')\n",
    "# plt.ylabel('PC 2')\n",
    "# plt.title('PCA dimensionality Reduction using KernelPCA (kernel=rbf)')\n",
    "# plt.legend()\n",
    "# # plt.savefig('kernelpca', dpi=300, bbox_inches='tight')\n",
    "# plt.show()"
   ]
  },
  {
   "cell_type": "code",
   "execution_count": 52,
   "metadata": {},
   "outputs": [],
   "source": [
    "# km = KMeans(n_clusters=2, init='random', n_init=10, max_iter=300, tol=1e-04, random_state=0)\n",
    "# y_km = km.fit_predict(X)\n",
    "# plt.scatter(X[y_km == 0, 0], X[y_km == 0, 1], s=50, c='lightgreen', marker='s', edgecolor='black', label='cluster 1')\n",
    "# plt.scatter(X[y_km == 1, 0], X[y_km == 1, 1], s=50, c='orange', marker='o', edgecolor='black', label='cluster 2')\n",
    "# plt.scatter(km.cluster_centers_[:, 0], km.cluster_centers_[:, 1], s=250, marker='*', c='red', edgecolor='black', label='centroids')\n",
    "# plt.legend(scatterpoints=1)\n",
    "# plt.grid()\n",
    "# plt.title('KMeans Clustering Analysis of Dataset')\n",
    "# # plt.savefig('kmeans clustering', dpi=300, bbox_inches='tight')\n",
    "# plt.show()"
   ]
  },
  {
   "cell_type": "code",
   "execution_count": 53,
   "metadata": {},
   "outputs": [
    {
     "name": "stdout",
     "output_type": "stream",
     "text": [
      "['C-89' 'C-218' 'C-182' 'C-178' 'C-93' 'C-100' 'C-126' 'C-103' 'C-190'\n",
      " 'C-137' 'C-91' 'C-51' 'C-17' 'C-159' 'C-8' 'C-97' 'C-135' 'C-75' 'C-192'\n",
      " 'C-48' 'C-104' 'C-209' 'C-139' 'C-112' 'C-26' 'C-123' 'C-149' 'C-23'\n",
      " 'C-127' 'C-184' 'C-225' 'C-9' 'C-3' 'C-152' 'C-113' 'H-10' 'H-90' 'H-145'\n",
      " 'H-148' 'H-217' 'H-220' 'H-4' 'H-33' 'H-39' 'H-76' 'H-92' 'H-96' 'H-114'\n",
      " 'H-131' 'H-142' 'H-211' 'H-19' 'H-47' 'H-53' 'H-56' 'H-119' 'H-134'\n",
      " 'H-214' 'H-16' 'H-94' 'H-99' 'H-206' 'H-208' 'H-223' 'H-226' 'H-88'\n",
      " 'H-102' 'H-125' 'H-140' 'H-13' 'C-71' 'C-146' 'C-181' 'C-196' 'C-205'\n",
      " 'C-81' 'C-21' 'C-25' 'C-95' 'C-204' 'C-49' 'C-186' 'C-172' 'C-213' 'C-43'\n",
      " 'C-66' 'C-72' 'C-207' 'C-12' 'C-117' 'C-141' 'C-46' 'C-195' 'C-20' 'C-86'\n",
      " 'C-161' 'C-173' 'C-74' 'C-14' 'C-40' 'C-15' 'C-132' 'C-69' 'C-219' 'C-52'\n",
      " 'C-80' 'C-34' 'C-60' 'C-29' 'C-199' 'C-57' 'C-198' 'C-107' 'C-130'\n",
      " 'C-120' 'C-110' 'C-193' 'C-170' 'C-115' 'C-163' 'C-167' 'C-2' 'C-150'\n",
      " 'C-201' 'C-222' 'C-38' 'C-5' 'C-156' 'C-158' 'C-176' 'C-144' 'C-18'\n",
      " 'C-44' 'C-106' 'C-129' 'C-11' 'C-31' 'C-210' 'C-155' 'C-147' 'C-202'\n",
      " 'C-224' 'C-118' 'C-98' 'C-41' 'C-124' 'C-133' 'C-35' 'C-77' 'C-37' 'C-63'\n",
      " 'C-109' 'C-143' 'C-153' 'C-78' 'C-221' 'C-212' 'C-32' 'C-169' 'C-189'\n",
      " 'C-121' 'C-179' 'C-187' 'C-87' 'C-6' 'C-84' 'C-215' 'C-101' 'C-216'\n",
      " 'C-55' 'C-175' 'C-64' 'C-61' 'H-30' 'H-36' 'H-59' 'H-85' 'H-116' 'H-138'\n",
      " 'H-22' 'H-42' 'H-45' 'H-111' 'H-136' 'H-122' 'H-128' 'H-1' 'H-7' 'H-24'\n",
      " 'H-27' 'H-82' 'H-105' 'H-108' 'H-50' 'H-171' 'H-177' 'H-165' 'H-168'\n",
      " 'H-200' 'H-203' 'H-160' 'H-68' 'H-174' 'H-185' 'H-191' 'H-157' 'H-65'\n",
      " 'H-73' 'H-180' 'H-183' 'H-62' 'H-70' 'H-194' 'H-197']\n"
     ]
    },
    {
     "data": {
      "image/png": "[encoded data removed]",
      "text/plain": [
       "<Figure size 1080x360 with 1 Axes>"
      ]
     },
     "metadata": {
      "needs_background": "light"
     },
     "output_type": "display_data"
    }
   ],
   "source": [
    "fig = plt.figure(figsize=(15, 5))\n",
    "features = np.array(df.iloc[16: , 2])\n",
    "patients = np.array(df.columns[8:])\n",
    "for i in range(len(patients)):\n",
    "    if df.iloc[15, i+8] == 1:\n",
    "        patients[i] = 'C-'+str(patients[i])\n",
    "    else:\n",
    "        patients[i] = 'H-'+str(patients[i])\n",
    "df = pd.DataFrame(X, columns=features, index=patients)\n",
    "row_dist = pd.DataFrame(squareform(pdist(df, metric='euclidean')), columns=patients, index=patients)\n",
    "row_clusters = linkage(df.values, method='complete', metric='euclidean')\n",
    "row_dendr = dendrogram(row_clusters, labels=patients, \n",
    "                       # make dendrogram black (part 2/2) \n",
    "                       # color_threshold=np.inf\n",
    "                      )\n",
    "plt.tight_layout()\n",
    "plt.ylabel('Euclidean distance')\n",
    "plt.title('Hierarchical Clustering Analysis')\n",
    "plt.savefig('dendrogram', dpi=300, bbox_inches='tight')\n",
    "plt.show()"
   ]
  },
  {
   "cell_type": "code",
   "execution_count": null,
   "metadata": {},
   "outputs": [],
   "source": []
  }
 ],
 "metadata": {
  "kernelspec": {
   "display_name": "Python 3",
   "language": "python",
   "name": "python3"
  },
  "language_info": {
   "codemirror_mode": {
    "name": "ipython",
    "version": 3
   },
   "file_extension": ".py",
   "mimetype": "text/x-python",
   "name": "python",
   "nbconvert_exporter": "python",
   "pygments_lexer": "ipython3",
   "version": "3.7.3"
  }
 },
 "nbformat": 4,
 "nbformat_minor": 2
}
