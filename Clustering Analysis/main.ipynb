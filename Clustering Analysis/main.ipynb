{
 "cells": [
  {
   "cell_type": "code",
   "execution_count": 251,
   "metadata": {},
   "outputs": [],
   "source": [
    "import numpy as np\n",
    "import pandas as pd\n",
    "import matplotlib.pyplot as plt\n",
    "from sklearn.preprocessing import StandardScaler\n",
    "from sklearn.model_selection import train_test_split\n",
    "from sklearn.linear_model import LogisticRegression\n",
    "from sklearn.feature_selection import SelectFromModel\n",
    "from mpl_toolkits.mplot3d import Axes3D\n",
    "from sklearn.svm import SVC\n",
    "from scipy.spatial.distance import pdist, squareform\n",
    "from scipy.cluster.hierarchy import linkage\n",
    "from scipy.cluster.hierarchy import dendrogram\n",
    "from sklearn.cluster import KMeans\n",
    "from sklearn.decomposition import PCA\n",
    "from sklearn.decomposition import KernelPCA\n",
    "from sklearn.ensemble import RandomForestClassifier\n",
    "from matplotlib.colors import ListedColormap\n",
    "import matplotlib.colors as colors"
   ]
  },
  {
   "cell_type": "code",
   "execution_count": 252,
   "metadata": {
    "scrolled": true
   },
   "outputs": [],
   "source": [
    "df = pd.read_excel('COH plasma data.xlsx')\n",
    "X = np.array(df.iloc[16:, 8:]).transpose()\n",
    "y = np.array(df.iloc[15, 8:]).transpose()\n",
    "y = y.astype('int')\n",
    "pd.DataFrame(X).fillna(0, inplace=True)"
   ]
  },
  {
   "cell_type": "code",
   "execution_count": 253,
   "metadata": {},
   "outputs": [],
   "source": [
    "X_train, X_test, y_train, y_test = train_test_split(X, y, test_size=0.3, stratify=y, random_state=0)\n",
    "sc = StandardScaler()\n",
    "X_train_std = sc.fit_transform(X_train)\n",
    "X_test_std = sc.transform(X_test)"
   ]
  },
  {
   "cell_type": "code",
   "execution_count": 254,
   "metadata": {},
   "outputs": [],
   "source": [
    "def plot_decision_regions(X, y, classifier, resolution=0.02):\n",
    "    markers = ('s', 'x', 'o', '^', 'v')\n",
    "    colors = ('red', 'blue', 'lightgreen', 'gray', 'cyan')\n",
    "    cmap = ListedColormap(colors[:len(np.unique(y))])\n",
    "    x1_min, x1_max = X[:, 0].min() - 1, X[:, 0].max() + 1\n",
    "    x2_min, x2_max = X[:, 1].min() - 1, X[:, 1].max() + 1\n",
    "    xx1, xx2 = np.meshgrid(np.arange(x1_min, x1_max, resolution),\n",
    "    np.arange(x2_min, x2_max, resolution))\n",
    "    Z = classifier.predict(np.array([xx1.ravel(), xx2.ravel()]).T)\n",
    "    Z = Z.reshape(xx1.shape)\n",
    "    plt.contourf(xx1, xx2, Z, alpha=0.4, cmap=cmap)\n",
    "    plt.xlim(xx1.min(), xx1.max())\n",
    "    plt.ylim(xx2.min(), xx2.max())\n",
    "    # plot class samples\n",
    "    for idx, cl in enumerate(np.unique(y)):\n",
    "        plt.scatter(x=X[y == cl, 0], y=X[y == cl, 1], alpha=0.6, c=cmap(idx), edgecolor='black', marker=markers[idx], label=cl)"
   ]
  },
  {
   "cell_type": "code",
   "execution_count": 255,
   "metadata": {},
   "outputs": [],
   "source": [
    "# forest = RandomForestClassifier(n_estimators=500, random_state=1)\n",
    "# forest.fit(X_train_std, y_train)\n",
    "# feat_labels = np.array(df.iloc[16:, 2]).transpose()\n",
    "# importances = forest.feature_importances_\n",
    "# indices = np.argsort(importances)[::-1]\n",
    "# for f in range(X_train.shape[1]):\n",
    "#     print(\"%2d) %-*s %f\" % (f + 1, 30, feat_labels[indices[f]], importances[indices[f]]))\n",
    "\n",
    "# plt.title('Feature Importance')\n",
    "# plt.bar(range(X_train_std.shape[1]), importances[indices], align='center')\n",
    "# plt.xticks(range(X_train_std.shape[1]), feat_labels, rotation=90)\n",
    "# plt.xlim([-1, X_train_std.shape[1]])\n",
    "# plt.tight_layout()\n",
    "# plt.show()"
   ]
  },
  {
   "cell_type": "code",
   "execution_count": 256,
   "metadata": {
    "scrolled": true
   },
   "outputs": [],
   "source": [
    "# fig = plt.figure(figsize=(12, 8))\n",
    "# ax = fig.add_subplot(111, projection='3d')\n",
    "# oxoproline = list(df.iloc[18, 8:])\n",
    "# aspartate = list(df.iloc[20, 8:])\n",
    "# glycerol = list(df.iloc[21, 8:])\n",
    "# ax.scatter(oxoproline, aspartate, glycerol, c='r', marker='o')\n",
    "# ax.set_xlabel('5-Oxoproline')\n",
    "# ax.set_ylabel('Aspartate')\n",
    "# ax.set_zlabel('Glycerolphosphate')\n",
    "# ax.title.set_text('Important features 3D plot')\n",
    "# plt.savefig('3d.png', dpi=300, bbox_inches='tight')\n",
    "# plt.show()"
   ]
  },
  {
   "cell_type": "code",
   "execution_count": 257,
   "metadata": {},
   "outputs": [],
   "source": [
    "# pca = PCA(n_components=2)\n",
    "# lr = LogisticRegression()\n",
    "# X_train_pca = pca.fit_transform(X_train_std)\n",
    "# X_test_pca = pca.transform(X_test_std)\n",
    "# lr.fit(X_train_pca, y_train)\n",
    "# plot_decision_regions(X_train_pca, y_train, classifier=lr)\n",
    "# plt.xlabel('PC 1')\n",
    "# plt.ylabel('PC 2')\n",
    "# # plt.title('PCA Dimensionality Reduction 2D using Logistic Regression')\n",
    "# plt.legend(loc='lower left')\n",
    "# plt.savefig('pca2d_lr.png', dpi=300, bbox_inches='tight')\n",
    "# plt.show()"
   ]
  },
  {
   "cell_type": "code",
   "execution_count": 258,
   "metadata": {
    "scrolled": true
   },
   "outputs": [],
   "source": [
    "# kpca = KernelPCA(n_components=2, kernel='rbf', gamma=15)\n",
    "# X_kpca = kpca.fit_transform(X)\n",
    "# plt.scatter(X_kpca[y==0, 0], X_kpca[y==0, 1], color='red', marker='^', alpha=0.5, label='Patient')\n",
    "# plt.scatter(X_kpca[y==1, 0], X_kpca[y==1, 1], color='blue', marker='o', alpha=0.5, label='Healthy')\n",
    "# plt.xlabel('PC 1')\n",
    "# plt.ylabel('PC 2')\n",
    "# plt.title('PCA dimensionality Reduction using KernelPCA (kernel=rbf)')\n",
    "# plt.legend()\n",
    "# # plt.savefig('kernelpca', dpi=300, bbox_inches='tight')\n",
    "# plt.show()"
   ]
  },
  {
   "cell_type": "code",
   "execution_count": 259,
   "metadata": {},
   "outputs": [],
   "source": [
    "# km = KMeans(n_clusters=2, init='random', n_init=10, max_iter=300, tol=1e-04, random_state=0)\n",
    "# y_km = km.fit_predict(X)\n",
    "# plt.scatter(X[y_km == 0, 0], X[y_km == 0, 1], s=50, c='lightgreen', marker='s', edgecolor='black', label='cluster 1')\n",
    "# plt.scatter(X[y_km == 1, 0], X[y_km == 1, 1], s=50, c='orange', marker='o', edgecolor='black', label='cluster 2')\n",
    "# plt.scatter(km.cluster_centers_[:, 0], km.cluster_centers_[:, 1], s=250, marker='*', c='red', edgecolor='black', label='centroids')\n",
    "# plt.legend(scatterpoints=1)\n",
    "# plt.grid()\n",
    "# plt.title('KMeans Clustering Analysis of Dataset')\n",
    "# # plt.savefig('kmeans clustering', dpi=300, bbox_inches='tight')\n",
    "# plt.show()"
   ]
  },
  {
   "cell_type": "code",
   "execution_count": 260,
   "metadata": {},
   "outputs": [
    {
     "data": {
      "image/png": "[encoded data removed]",
      "text/plain": [
       "<Figure size 1080x360 with 1 Axes>"
      ]
     },
     "metadata": {
      "needs_background": "light"
     },
     "output_type": "display_data"
    }
   ],
   "source": [
    "fig = plt.figure(figsize=(15, 5))\n",
    "features = np.array(df.iloc[16: , 2])\n",
    "patients = np.array(df.columns[8:])\n",
    "df = pd.DataFrame(X, columns=features, index=patients)\n",
    "row_dist = pd.DataFrame(squareform(pdist(df, metric='euclidean')), columns=patients, index=patients)\n",
    "row_clusters = linkage(df.values, method='complete', metric='euclidean')\n",
    "row_dendr = dendrogram(row_clusters, labels=labels, \n",
    "                       # make dendrogram black (part 2/2) \n",
    "                       # color_threshold=np.inf\n",
    "                      )\n",
    "plt.tight_layout()\n",
    "plt.ylabel('Euclidean distance')\n",
    "plt.title('Hierarchical Clustering Analysis')\n",
    "plt.savefig('dendrogram', dpi=300, bbox_inches='tight')\n",
    "plt.show()"
   ]
  },
  {
   "cell_type": "code",
   "execution_count": null,
   "metadata": {},
   "outputs": [],
   "source": []
  }
 ],
 "metadata": {
  "kernelspec": {
   "display_name": "Python 3",
   "language": "python",
   "name": "python3"
  },
  "language_info": {
   "codemirror_mode": {
    "name": "ipython",
    "version": 3
   },
   "file_extension": ".py",
   "mimetype": "text/x-python",
   "name": "python",
   "nbconvert_exporter": "python",
   "pygments_lexer": "ipython3",
   "version": "3.7.3"
  }
 },
 "nbformat": 4,
 "nbformat_minor": 2
}
